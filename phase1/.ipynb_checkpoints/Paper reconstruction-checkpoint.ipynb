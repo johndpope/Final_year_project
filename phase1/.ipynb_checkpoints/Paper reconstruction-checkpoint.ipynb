{
 "cells": [
  {
   "cell_type": "code",
   "execution_count": 1,
   "metadata": {
    "collapsed": false
   },
   "outputs": [
    {
     "name": "stderr",
     "output_type": "stream",
     "text": [
      "C:\\Users\\User\\Anaconda3\\envs\\py35\\lib\\site-packages\\matplotlib\\cbook.py:136: MatplotlibDeprecationWarning: The finance module has been deprecated in mpl 2.0 and will be removed in mpl 2.2. Please use the module mpl_finance instead.\n",
      "  warnings.warn(message, mplDeprecation, stacklevel=1)\n"
     ]
    }
   ],
   "source": [
    "import os\n",
    "import time\n",
    "import requests\n",
    "import bs4 as bs\n",
    "import numpy as np\n",
    "import pandas as pd\n",
    "import pickle as pkl\n",
    "import datetime as dt\n",
    "import tensorflow as tf\n",
    "from matplotlib import style\n",
    "import yahoo_finance as yahoo\n",
    "from datetime import timedelta\n",
    "import matplotlib.pyplot as plt\n",
    "import matplotlib.dates as mdates\n",
    "from matplotlib.finance import candlestick_ohlc\n",
    "from IPython.display import display, Math, Latex\n",
    "style.use('ggplot')"
   ]
  },
  {
   "cell_type": "code",
   "execution_count": 2,
   "metadata": {
    "collapsed": true
   },
   "outputs": [],
   "source": [
    "getter = yahoo.Share('^IXCO')"
   ]
  },
  {
   "cell_type": "code",
   "execution_count": 4,
   "metadata": {
    "collapsed": false
   },
   "outputs": [],
   "source": [
    "ixco = getter.get_historical('2000-1-1', '2016-12-31');"
   ]
  },
  {
   "cell_type": "code",
   "execution_count": 5,
   "metadata": {
    "collapsed": false
   },
   "outputs": [],
   "source": [
    "ixco_date = np.array([ixco[i]['Date'] for i in range(len(ixco))])\n",
    "ixco_date = np.flip(ixco_date, axis=0)"
   ]
  },
  {
   "cell_type": "code",
   "execution_count": 6,
   "metadata": {
    "collapsed": false
   },
   "outputs": [],
   "source": [
    "ixco_close = np.array([ixco[i]['Close'] for i in range(len(ixco))])\n",
    "ixco_close = np.flip(ixco_close, axis=0)\n",
    "ixco_close = ixco_close.astype(float)"
   ]
  },
  {
   "cell_type": "code",
   "execution_count": 7,
   "metadata": {
    "collapsed": false
   },
   "outputs": [
    {
     "data": {
      "text/plain": [
       "DatetimeIndex(['2000-01-03', '2000-01-04', '2000-01-05', '2000-01-06',\n",
       "               '2000-01-07', '2000-01-10', '2000-01-11', '2000-01-12',\n",
       "               '2000-01-13', '2000-01-14',\n",
       "               ...\n",
       "               '2016-12-16', '2016-12-19', '2016-12-20', '2016-12-21',\n",
       "               '2016-12-22', '2016-12-23', '2016-12-27', '2016-12-28',\n",
       "               '2016-12-29', '2016-12-30'],\n",
       "              dtype='datetime64[ns]', length=4277, freq=None)"
      ]
     },
     "execution_count": 7,
     "metadata": {},
     "output_type": "execute_result"
    }
   ],
   "source": [
    "pd.to_datetime(ixco_date)"
   ]
  },
  {
   "cell_type": "code",
   "execution_count": 34,
   "metadata": {
    "collapsed": false
   },
   "outputs": [
    {
     "data": {
      "text/html": [
       "<div>\n",
       "<table border=\"1\" class=\"dataframe\">\n",
       "  <thead>\n",
       "    <tr style=\"text-align: right;\">\n",
       "      <th></th>\n",
       "      <th>Open</th>\n",
       "      <th>High</th>\n",
       "      <th>Low</th>\n",
       "      <th>Close</th>\n",
       "      <th>Volume</th>\n",
       "      <th>Adj Close</th>\n",
       "      <th>IXCO</th>\n",
       "    </tr>\n",
       "  </thead>\n",
       "  <tbody>\n",
       "    <tr>\n",
       "      <th>2000-01-03</th>\n",
       "      <td>112.4375</td>\n",
       "      <td>116.0000</td>\n",
       "      <td>111.875</td>\n",
       "      <td>116.0000</td>\n",
       "      <td>10347700</td>\n",
       "      <td>87.761136</td>\n",
       "      <td>2368.820068</td>\n",
       "    </tr>\n",
       "    <tr>\n",
       "      <th>2000-01-04</th>\n",
       "      <td>114.0000</td>\n",
       "      <td>114.5000</td>\n",
       "      <td>110.875</td>\n",
       "      <td>112.0625</td>\n",
       "      <td>8227800</td>\n",
       "      <td>84.782175</td>\n",
       "      <td>2234.530029</td>\n",
       "    </tr>\n",
       "    <tr>\n",
       "      <th>2000-01-05</th>\n",
       "      <td>112.9375</td>\n",
       "      <td>119.7500</td>\n",
       "      <td>112.125</td>\n",
       "      <td>116.0000</td>\n",
       "      <td>12733200</td>\n",
       "      <td>87.761136</td>\n",
       "      <td>2220.600098</td>\n",
       "    </tr>\n",
       "    <tr>\n",
       "      <th>2000-01-06</th>\n",
       "      <td>118.0000</td>\n",
       "      <td>118.9375</td>\n",
       "      <td>113.500</td>\n",
       "      <td>114.0000</td>\n",
       "      <td>7971900</td>\n",
       "      <td>86.248013</td>\n",
       "      <td>2113.300049</td>\n",
       "    </tr>\n",
       "    <tr>\n",
       "      <th>2000-01-07</th>\n",
       "      <td>117.2500</td>\n",
       "      <td>117.9375</td>\n",
       "      <td>110.625</td>\n",
       "      <td>113.5000</td>\n",
       "      <td>11856700</td>\n",
       "      <td>85.869732</td>\n",
       "      <td>2204.379883</td>\n",
       "    </tr>\n",
       "  </tbody>\n",
       "</table>\n",
       "</div>"
      ],
      "text/plain": [
       "                Open      High      Low     Close    Volume  Adj Close  \\\n",
       "2000-01-03  112.4375  116.0000  111.875  116.0000  10347700  87.761136   \n",
       "2000-01-04  114.0000  114.5000  110.875  112.0625   8227800  84.782175   \n",
       "2000-01-05  112.9375  119.7500  112.125  116.0000  12733200  87.761136   \n",
       "2000-01-06  118.0000  118.9375  113.500  114.0000   7971900  86.248013   \n",
       "2000-01-07  117.2500  117.9375  110.625  113.5000  11856700  85.869732   \n",
       "\n",
       "                   IXCO  \n",
       "2000-01-03  2368.820068  \n",
       "2000-01-04  2234.530029  \n",
       "2000-01-05  2220.600098  \n",
       "2000-01-06  2113.300049  \n",
       "2000-01-07  2204.379883  "
      ]
     },
     "execution_count": 34,
     "metadata": {},
     "output_type": "execute_result"
    }
   ],
   "source": [
    "ibm = pd.read_csv('./ibm/ibm.csv')\n",
    "ibm['Date'] = pd.to_datetime(ibm['Date'])\n",
    "ibm.set_index('Date', inplace=True)\n",
    "ibm = ibm.loc['2000-01-01':'2016-12-31']\n",
    "ibm.set_index(pd.to_datetime(ixco_date), inplace=True)\n",
    "ibm['IXCO'] = pd.Series(ixco_close, index=ibm.index)\n",
    "ibm.head()"
   ]
  },
  {
   "cell_type": "code",
   "execution_count": 26,
   "metadata": {
    "collapsed": false
   },
   "outputs": [],
   "source": [
    "year = {\n",
    "    2000: ibm.loc['2000-01-01':'2000-12-31'].index,\n",
    "    2001: ibm.loc['2001-01-01':'2001-12-31'].index,\n",
    "    2002: ibm.loc['2002-01-01':'2002-12-31'].index,\n",
    "    2003: ibm.loc['2003-01-01':'2003-12-31'].index,\n",
    "    2004: ibm.loc['2004-01-01':'2004-12-31'].index,\n",
    "    2005: ibm.loc['2005-01-01':'2005-12-31'].index,\n",
    "    2006: ibm.loc['2006-01-01':'2006-12-31'].index,\n",
    "    2007: ibm.loc['2007-01-01':'2007-12-31'].index,\n",
    "    2008: ibm.loc['2008-01-01':'2008-12-31'].index,\n",
    "    2009: ibm.loc['2009-01-01':'2009-12-31'].index,\n",
    "    2010: ibm.loc['2010-01-01':'2010-12-31'].index,\n",
    "    2011: ibm.loc['2011-01-01':'2011-12-31'].index,\n",
    "    2012: ibm.loc['2012-01-01':'2012-12-31'].index,\n",
    "    2013: ibm.loc['2013-01-01':'2013-12-31'].index,\n",
    "    2014: ibm.loc['2014-01-01':'2014-12-31'].index,\n",
    "    2015: ibm.loc['2015-01-01':'2015-12-31'].index,\n",
    "    2016: ibm.loc['2016-01-01':'2016-12-31'].index,\n",
    "}"
   ]
  },
  {
   "cell_type": "code",
   "execution_count": 35,
   "metadata": {
    "collapsed": false
   },
   "outputs": [],
   "source": [
    "for y in range(2000,2017):\n",
    "    plt.clf()\n",
    "    ax1 = plt.subplot2grid((6,1), (0,0), rowspan=5, colspan=1)\n",
    "    ax2 = plt.subplot2grid((6,1), (5,0), rowspan=1, colspan=1,sharex=ax1)\n",
    "    ax1.plot(year[y], (ibm['Close'][year[y]] - ibm['Close'][year[y]].mean())/ibm['Close'][year[y]].std(), linewidth=0.5, label=\"IBM\")\n",
    "    ax1.plot(year[y], (ibm['IXCO'][year[y]] - ibm['IXCO'][year[y]].mean())/ibm['IXCO'][year[y]].std(), linewidth=0.5, label=\"IXCO\")\n",
    "    ax2.bar(year[y], ibm['Volume'][year[y]])\n",
    "    ax1.legend(loc='upper right', frameon=False)\n",
    "    ax1.xaxis.set_visible(False)\n",
    "    plt.savefig(\"./ibm/ixco_ibm_year_{}.png\".format(y), dpi=1000)"
   ]
  },
  {
   "cell_type": "code",
   "execution_count": 80,
   "metadata": {
    "collapsed": false
   },
   "outputs": [],
   "source": [
    "ibm_ohlc = ibm['Adj Close'].resample('7D').ohlc()\n",
    "ibm_ohlc = ibm_ohlc.reset_index()\n",
    "ibm_ohlc['index'] = ibm_ohlc['index'].map(mdates.date2num)\n",
    "ibm_volume = ibm['Volume'].resample('7D').sum()\n",
    "ax1 = plt.subplot2grid((6,1), (0,0), rowspan=5, colspan=1)\n",
    "ax2 = plt.subplot2grid((6,1), (5,0), rowspan=1, colspan=1,sharex=ax1)\n",
    "candlestick_ohlc(ax1, ibm_ohlc.values, width=2, colorup='g')\n",
    "ax2.fill_between(ibm_volume.index.map(mdates.date2num), ibm_volume.values, 0)\n",
    "ax1.xaxis_date()\n",
    "ax1.xaxis.set_visible(False)\n",
    "plt.savefig(\"./ibm/candle_stick.png\", dpi=1000)"
   ]
  },
  {
   "cell_type": "code",
   "execution_count": 35,
   "metadata": {
    "collapsed": false
   },
   "outputs": [
    {
     "data": {
      "text/html": [
       "<div>\n",
       "<table border=\"1\" class=\"dataframe\">\n",
       "  <thead>\n",
       "    <tr style=\"text-align: right;\">\n",
       "      <th></th>\n",
       "      <th>Open</th>\n",
       "      <th>IXCO</th>\n",
       "    </tr>\n",
       "  </thead>\n",
       "  <tbody>\n",
       "    <tr>\n",
       "      <th>2000-01-03</th>\n",
       "      <td>112.4375</td>\n",
       "      <td>2368.820068</td>\n",
       "    </tr>\n",
       "    <tr>\n",
       "      <th>2000-01-04</th>\n",
       "      <td>114.0000</td>\n",
       "      <td>2234.530029</td>\n",
       "    </tr>\n",
       "    <tr>\n",
       "      <th>2000-01-05</th>\n",
       "      <td>112.9375</td>\n",
       "      <td>2220.600098</td>\n",
       "    </tr>\n",
       "    <tr>\n",
       "      <th>2000-01-06</th>\n",
       "      <td>118.0000</td>\n",
       "      <td>2113.300049</td>\n",
       "    </tr>\n",
       "    <tr>\n",
       "      <th>2000-01-07</th>\n",
       "      <td>117.2500</td>\n",
       "      <td>2204.379883</td>\n",
       "    </tr>\n",
       "  </tbody>\n",
       "</table>\n",
       "</div>"
      ],
      "text/plain": [
       "                Open         IXCO\n",
       "2000-01-03  112.4375  2368.820068\n",
       "2000-01-04  114.0000  2234.530029\n",
       "2000-01-05  112.9375  2220.600098\n",
       "2000-01-06  118.0000  2113.300049\n",
       "2000-01-07  117.2500  2204.379883"
      ]
     },
     "execution_count": 35,
     "metadata": {},
     "output_type": "execute_result"
    }
   ],
   "source": [
    "temporal_window = 3\n",
    "ma7 = 7\n",
    "ma30 = 30\n",
    "ibm_x = ibm.drop(['High', 'Close', 'Volume', 'Adj Close', 'Low'], axis=1)\n",
    "ibm['ma7'] = ibm['Close'].rolling(ma7).mean()\n",
    "ibm['ma30'] = ibm['Close'].rolling(ma30).mean()\n",
    "ibm_x.head()"
   ]
  },
  {
   "cell_type": "code",
   "execution_count": 39,
   "metadata": {
    "collapsed": false
   },
   "outputs": [
    {
     "data": {
      "text/html": [
       "<div>\n",
       "<table border=\"1\" class=\"dataframe\">\n",
       "  <thead>\n",
       "    <tr style=\"text-align: right;\">\n",
       "      <th></th>\n",
       "      <th>Open</th>\n",
       "      <th>IXCO</th>\n",
       "      <th>w1</th>\n",
       "      <th>w2</th>\n",
       "      <th>w3</th>\n",
       "      <th>ma7_1</th>\n",
       "      <th>ma7_2</th>\n",
       "      <th>ma7_3</th>\n",
       "      <th>ma7_4</th>\n",
       "      <th>ma30_1</th>\n",
       "      <th>ma30_2</th>\n",
       "      <th>ma30_3</th>\n",
       "      <th>ma30_4</th>\n",
       "      <th>std30</th>\n",
       "    </tr>\n",
       "  </thead>\n",
       "  <tbody>\n",
       "    <tr>\n",
       "      <th>2000-01-03</th>\n",
       "      <td>112.4375</td>\n",
       "      <td>2368.820068</td>\n",
       "      <td>NaN</td>\n",
       "      <td>NaN</td>\n",
       "      <td>NaN</td>\n",
       "      <td>NaN</td>\n",
       "      <td>NaN</td>\n",
       "      <td>NaN</td>\n",
       "      <td>NaN</td>\n",
       "      <td>NaN</td>\n",
       "      <td>NaN</td>\n",
       "      <td>NaN</td>\n",
       "      <td>NaN</td>\n",
       "      <td>NaN</td>\n",
       "    </tr>\n",
       "    <tr>\n",
       "      <th>2000-01-04</th>\n",
       "      <td>114.0000</td>\n",
       "      <td>2234.530029</td>\n",
       "      <td>116.0000</td>\n",
       "      <td>NaN</td>\n",
       "      <td>NaN</td>\n",
       "      <td>NaN</td>\n",
       "      <td>NaN</td>\n",
       "      <td>NaN</td>\n",
       "      <td>NaN</td>\n",
       "      <td>NaN</td>\n",
       "      <td>NaN</td>\n",
       "      <td>NaN</td>\n",
       "      <td>NaN</td>\n",
       "      <td>NaN</td>\n",
       "    </tr>\n",
       "    <tr>\n",
       "      <th>2000-01-05</th>\n",
       "      <td>112.9375</td>\n",
       "      <td>2220.600098</td>\n",
       "      <td>112.0625</td>\n",
       "      <td>116.0000</td>\n",
       "      <td>NaN</td>\n",
       "      <td>NaN</td>\n",
       "      <td>NaN</td>\n",
       "      <td>NaN</td>\n",
       "      <td>NaN</td>\n",
       "      <td>NaN</td>\n",
       "      <td>NaN</td>\n",
       "      <td>NaN</td>\n",
       "      <td>NaN</td>\n",
       "      <td>NaN</td>\n",
       "    </tr>\n",
       "    <tr>\n",
       "      <th>2000-01-06</th>\n",
       "      <td>118.0000</td>\n",
       "      <td>2113.300049</td>\n",
       "      <td>116.0000</td>\n",
       "      <td>112.0625</td>\n",
       "      <td>116.0000</td>\n",
       "      <td>NaN</td>\n",
       "      <td>NaN</td>\n",
       "      <td>NaN</td>\n",
       "      <td>NaN</td>\n",
       "      <td>NaN</td>\n",
       "      <td>NaN</td>\n",
       "      <td>NaN</td>\n",
       "      <td>NaN</td>\n",
       "      <td>NaN</td>\n",
       "    </tr>\n",
       "    <tr>\n",
       "      <th>2000-01-07</th>\n",
       "      <td>117.2500</td>\n",
       "      <td>2204.379883</td>\n",
       "      <td>114.0000</td>\n",
       "      <td>116.0000</td>\n",
       "      <td>112.0625</td>\n",
       "      <td>NaN</td>\n",
       "      <td>NaN</td>\n",
       "      <td>NaN</td>\n",
       "      <td>NaN</td>\n",
       "      <td>NaN</td>\n",
       "      <td>NaN</td>\n",
       "      <td>NaN</td>\n",
       "      <td>NaN</td>\n",
       "      <td>NaN</td>\n",
       "    </tr>\n",
       "  </tbody>\n",
       "</table>\n",
       "</div>"
      ],
      "text/plain": [
       "                Open         IXCO        w1        w2        w3  ma7_1  ma7_2  \\\n",
       "2000-01-03  112.4375  2368.820068       NaN       NaN       NaN    NaN    NaN   \n",
       "2000-01-04  114.0000  2234.530029  116.0000       NaN       NaN    NaN    NaN   \n",
       "2000-01-05  112.9375  2220.600098  112.0625  116.0000       NaN    NaN    NaN   \n",
       "2000-01-06  118.0000  2113.300049  116.0000  112.0625  116.0000    NaN    NaN   \n",
       "2000-01-07  117.2500  2204.379883  114.0000  116.0000  112.0625    NaN    NaN   \n",
       "\n",
       "            ma7_3  ma7_4  ma30_1  ma30_2  ma30_3  ma30_4  std30  \n",
       "2000-01-03    NaN    NaN     NaN     NaN     NaN     NaN    NaN  \n",
       "2000-01-04    NaN    NaN     NaN     NaN     NaN     NaN    NaN  \n",
       "2000-01-05    NaN    NaN     NaN     NaN     NaN     NaN    NaN  \n",
       "2000-01-06    NaN    NaN     NaN     NaN     NaN     NaN    NaN  \n",
       "2000-01-07    NaN    NaN     NaN     NaN     NaN     NaN    NaN  "
      ]
     },
     "execution_count": 39,
     "metadata": {},
     "output_type": "execute_result"
    }
   ],
   "source": [
    "ibm_x['w1'] = ibm['Close'].shift(periods = 1)\n",
    "ibm_x['w2'] = ibm['Close'].shift(periods = 2)\n",
    "ibm_x['w3'] = ibm['Close'].shift(periods = 3)\n",
    "ibm_x['ma7_1'] = ibm['ma7'].shift(periods = temporal_window)\n",
    "ibm_x['ma7_2'] = ibm['ma7'].shift(periods = temporal_window+ma7)\n",
    "ibm_x['ma7_3'] = ibm['ma7'].shift(periods = temporal_window+2*ma7)\n",
    "ibm_x['ma7_4'] = ibm['ma7'].shift(periods = temporal_window+4*ma7)\n",
    "ibm_x['ma30_1'] = ibm['ma30'].shift(periods = temporal_window)\n",
    "ibm_x['ma30_2'] = ibm['ma30'].shift(periods = temporal_window+ma30)\n",
    "ibm_x['ma30_3'] = ibm['ma30'].shift(periods = temporal_window+2*ma30)\n",
    "ibm_x['ma30_4'] = ibm['ma30'].shift(periods = temporal_window+4*ma30)\n",
    "ibm_x['std30'] = ibm['Close'].rolling(ma30).std()\n",
    "ibm_x.head()"
   ]
  },
  {
   "cell_type": "code",
   "execution_count": 40,
   "metadata": {
    "collapsed": false
   },
   "outputs": [
    {
     "data": {
      "text/html": [
       "<div>\n",
       "<table border=\"1\" class=\"dataframe\">\n",
       "  <thead>\n",
       "    <tr style=\"text-align: right;\">\n",
       "      <th></th>\n",
       "      <th>Open</th>\n",
       "      <th>IXCO</th>\n",
       "      <th>w1</th>\n",
       "      <th>w2</th>\n",
       "      <th>w3</th>\n",
       "      <th>ma7_1</th>\n",
       "      <th>ma7_2</th>\n",
       "      <th>ma7_3</th>\n",
       "      <th>ma7_4</th>\n",
       "      <th>ma30_1</th>\n",
       "      <th>ma30_2</th>\n",
       "      <th>ma30_3</th>\n",
       "      <th>ma30_4</th>\n",
       "      <th>std30</th>\n",
       "    </tr>\n",
       "  </thead>\n",
       "  <tbody>\n",
       "    <tr>\n",
       "      <th>2000-08-09</th>\n",
       "      <td>119.0000</td>\n",
       "      <td>2307.610107</td>\n",
       "      <td>118.875</td>\n",
       "      <td>116.3125</td>\n",
       "      <td>115.8750</td>\n",
       "      <td>113.000000</td>\n",
       "      <td>111.205357</td>\n",
       "      <td>104.062500</td>\n",
       "      <td>114.656242</td>\n",
       "      <td>109.566663</td>\n",
       "      <td>111.603123</td>\n",
       "      <td>113.260417</td>\n",
       "      <td>116.450000</td>\n",
       "      <td>5.287005</td>\n",
       "    </tr>\n",
       "    <tr>\n",
       "      <th>2000-08-10</th>\n",
       "      <td>118.7500</td>\n",
       "      <td>2244.489990</td>\n",
       "      <td>118.750</td>\n",
       "      <td>118.8750</td>\n",
       "      <td>116.3125</td>\n",
       "      <td>113.857143</td>\n",
       "      <td>112.205357</td>\n",
       "      <td>103.812500</td>\n",
       "      <td>114.156242</td>\n",
       "      <td>109.714580</td>\n",
       "      <td>111.851040</td>\n",
       "      <td>112.775000</td>\n",
       "      <td>116.487500</td>\n",
       "      <td>5.534361</td>\n",
       "    </tr>\n",
       "    <tr>\n",
       "      <th>2000-08-11</th>\n",
       "      <td>119.7500</td>\n",
       "      <td>2259.020020</td>\n",
       "      <td>119.750</td>\n",
       "      <td>118.7500</td>\n",
       "      <td>118.8750</td>\n",
       "      <td>114.866071</td>\n",
       "      <td>112.642857</td>\n",
       "      <td>104.589286</td>\n",
       "      <td>113.214271</td>\n",
       "      <td>109.863540</td>\n",
       "      <td>112.183330</td>\n",
       "      <td>112.164583</td>\n",
       "      <td>116.610417</td>\n",
       "      <td>5.809831</td>\n",
       "    </tr>\n",
       "    <tr>\n",
       "      <th>2000-08-14</th>\n",
       "      <td>120.0000</td>\n",
       "      <td>2295.010010</td>\n",
       "      <td>120.625</td>\n",
       "      <td>119.7500</td>\n",
       "      <td>118.7500</td>\n",
       "      <td>115.794643</td>\n",
       "      <td>111.928571</td>\n",
       "      <td>106.767857</td>\n",
       "      <td>112.874985</td>\n",
       "      <td>110.163540</td>\n",
       "      <td>112.368746</td>\n",
       "      <td>111.691667</td>\n",
       "      <td>116.635417</td>\n",
       "      <td>6.247833</td>\n",
       "    </tr>\n",
       "    <tr>\n",
       "      <th>2000-08-15</th>\n",
       "      <td>122.0625</td>\n",
       "      <td>2299.209961</td>\n",
       "      <td>123.250</td>\n",
       "      <td>120.6250</td>\n",
       "      <td>119.7500</td>\n",
       "      <td>117.116071</td>\n",
       "      <td>111.321429</td>\n",
       "      <td>108.214286</td>\n",
       "      <td>112.169628</td>\n",
       "      <td>110.362500</td>\n",
       "      <td>112.528120</td>\n",
       "      <td>111.258333</td>\n",
       "      <td>116.585417</td>\n",
       "      <td>6.551071</td>\n",
       "    </tr>\n",
       "  </tbody>\n",
       "</table>\n",
       "</div>"
      ],
      "text/plain": [
       "                Open         IXCO       w1        w2        w3       ma7_1  \\\n",
       "2000-08-09  119.0000  2307.610107  118.875  116.3125  115.8750  113.000000   \n",
       "2000-08-10  118.7500  2244.489990  118.750  118.8750  116.3125  113.857143   \n",
       "2000-08-11  119.7500  2259.020020  119.750  118.7500  118.8750  114.866071   \n",
       "2000-08-14  120.0000  2295.010010  120.625  119.7500  118.7500  115.794643   \n",
       "2000-08-15  122.0625  2299.209961  123.250  120.6250  119.7500  117.116071   \n",
       "\n",
       "                 ma7_2       ma7_3       ma7_4      ma30_1      ma30_2  \\\n",
       "2000-08-09  111.205357  104.062500  114.656242  109.566663  111.603123   \n",
       "2000-08-10  112.205357  103.812500  114.156242  109.714580  111.851040   \n",
       "2000-08-11  112.642857  104.589286  113.214271  109.863540  112.183330   \n",
       "2000-08-14  111.928571  106.767857  112.874985  110.163540  112.368746   \n",
       "2000-08-15  111.321429  108.214286  112.169628  110.362500  112.528120   \n",
       "\n",
       "                ma30_3      ma30_4     std30  \n",
       "2000-08-09  113.260417  116.450000  5.287005  \n",
       "2000-08-10  112.775000  116.487500  5.534361  \n",
       "2000-08-11  112.164583  116.610417  5.809831  \n",
       "2000-08-14  111.691667  116.635417  6.247833  \n",
       "2000-08-15  111.258333  116.585417  6.551071  "
      ]
     },
     "execution_count": 40,
     "metadata": {},
     "output_type": "execute_result"
    }
   ],
   "source": [
    "ibm_x.dropna(axis=0, how='any', inplace=True)\n",
    "ibm_y = ibm['Close'].loc[ibm_x.index]\n",
    "ibm_x.head()"
   ]
  },
  {
   "cell_type": "code",
   "execution_count": 41,
   "metadata": {
    "collapsed": false
   },
   "outputs": [
    {
     "data": {
      "text/plain": [
       "2000-08-09    118.750\n",
       "2000-08-10    119.750\n",
       "2000-08-11    120.625\n",
       "2000-08-14    123.250\n",
       "2000-08-15    122.000\n",
       "Name: Close, dtype: float64"
      ]
     },
     "execution_count": 41,
     "metadata": {},
     "output_type": "execute_result"
    }
   ],
   "source": [
    "ibm_y.head()"
   ]
  },
  {
   "cell_type": "code",
   "execution_count": 67,
   "metadata": {
    "collapsed": false
   },
   "outputs": [
    {
     "data": {
      "image/png": "[encoded data removed]",
      "text/plain": [
       "<matplotlib.figure.Figure at 0x1e159af70b8>"
      ]
     },
     "metadata": {},
     "output_type": "display_data"
    }
   ],
   "source": [
    "fig = plt.figure(figsize=(10,5))\n",
    "plt.plot(ibm_x.index, ibm_x['IXCO'], color='b')\n",
    "plt.plot(ibm_x.index, ibm_y, color='r')\n",
    "plt.show()"
   ]
  },
  {
   "cell_type": "code",
   "execution_count": 54,
   "metadata": {
    "collapsed": true
   },
   "outputs": [],
   "source": [
    "ibm_x_train, ibm_y_train = ibm_x['2000-01-01':'2012-12-31'].as_matrix(), ibm_y['2000-01-01':'2012-12-31'].as_matrix()[:,np.newaxis]\n",
    "ibm_x_test, ibm_y_test = ibm_x['2013-01-01':'2016-12-31'].as_matrix(), ibm_y['2013-01-01':'2016-12-31'].as_matrix()[:, np.newaxis]\n",
    "ibm_x_train = (ibm_x_train - ibm_x_train.min())/(ibm_x_train.max()- ibm_x_train.min())\n",
    "ibm_y_train = (ibm_y_train - ibm_y_train.min())/(ibm_y_train.max()- ibm_y_train.min())\n",
    "ibm_x_test = (ibm_x_test - ibm_x_test.min())/(ibm_x_test.max()- ibm_x_test.min())\n",
    "ibm_y_test = (ibm_y_test - ibm_y_test.min())/(ibm_y_test.max()- ibm_y_test.min())"
   ]
  },
  {
   "cell_type": "code",
   "execution_count": 75,
   "metadata": {
    "collapsed": false
   },
   "outputs": [
    {
     "data": {
      "text/plain": [
       "<matplotlib.figure.Figure at 0x1e15829dc18>"
      ]
     },
     "metadata": {},
     "output_type": "display_data"
    },
    {
     "data": {
      "image/png": "[encoded data removed]",
      "text/plain": [
       "<matplotlib.figure.Figure at 0x1e158282c50>"
      ]
     },
     "metadata": {},
     "output_type": "display_data"
    }
   ],
   "source": [
    "plt.clf()\n",
    "fig = plt.figure(figsize=(10,5))\n",
    "plt.plot(range(ibm_x_train.shape[0]), ibm_x_train[:,1], color='b')\n",
    "plt.plot(range(ibm_x_train.shape[0]), ibm_y_train, color='r')\n",
    "plt.show()"
   ]
  },
  {
   "cell_type": "code",
   "execution_count": 55,
   "metadata": {
    "collapsed": true
   },
   "outputs": [],
   "source": [
    "N_FEATURES = ibm_x_train.shape[1]\n",
    "X = tf.placeholder(tf.float32, [None, N_FEATURES])\n",
    "Y = tf.placeholder(tf.float32, [None, 1])\n",
    "N_HIDDEN_L1 = 100\n"
   ]
  },
  {
   "cell_type": "code",
   "execution_count": 56,
   "metadata": {
    "collapsed": false
   },
   "outputs": [
    {
     "name": "stdout",
     "output_type": "stream",
     "text": [
      "Tensor(\"Relu_1:0\", shape=(?, 100), dtype=float32)\n"
     ]
    }
   ],
   "source": [
    "w_1 = tf.Variable(tf.truncated_normal([N_FEATURES, N_HIDDEN_L1], stddev=0.1))\n",
    "b_1 = tf.Variable(tf.constant(value=1, dtype=tf.float32, shape = [N_HIDDEN_L1]))\n",
    "h_1 = tf.nn.relu(tf.matmul(X, w_1) + b_1)\n",
    "print (h_1)"
   ]
  },
  {
   "cell_type": "code",
   "execution_count": 57,
   "metadata": {
    "collapsed": false
   },
   "outputs": [
    {
     "name": "stdout",
     "output_type": "stream",
     "text": [
      "Tensor(\"add_3:0\", shape=(?, 1), dtype=float32)\n"
     ]
    }
   ],
   "source": [
    "w_2 = tf.Variable(tf.truncated_normal([N_HIDDEN_L1, 1], stddev=0.1))\n",
    "b_2 = tf.Variable(tf.constant(value=1, dtype=tf.float32, shape = [1]))\n",
    "pred = (tf.matmul(h_1, w_2) + b_2)\n",
    "print (pred)"
   ]
  },
  {
   "cell_type": "code",
   "execution_count": 58,
   "metadata": {
    "collapsed": true
   },
   "outputs": [],
   "source": [
    "LEARNING_RATE = 1e-2\n",
    "cost = tf.reduce_mean(tf.square(pred-Y))\n",
    "optimizer = tf.train.AdamOptimizer(learning_rate=LEARNING_RATE).minimize(cost)"
   ]
  },
  {
   "cell_type": "code",
   "execution_count": 59,
   "metadata": {
    "collapsed": false
   },
   "outputs": [
    {
     "name": "stdout",
     "output_type": "stream",
     "text": [
      "Training.......\n",
      "------ Elapsed time ------- Epoch ---- Cost \n",
      "---Running time: 0.07816886901855469 seconds ---\n",
      "**************************************************\n"
     ]
    },
    {
     "data": {
      "image/png": "[encoded data removed]",
      "text/plain": [
       "<matplotlib.figure.Figure at 0x1e1578cadd8>"
      ]
     },
     "metadata": {},
     "output_type": "display_data"
    }
   ],
   "source": [
    "BATCH_SIZE = 20\n",
    "N_EPOCHS = 5\n",
    "batch_size = BATCH_SIZE\n",
    "n_epoches = N_EPOCHS\n",
    "n_samples = ibm_x_train.shape[0]\n",
    "with tf.Session() as session:\n",
    "    session.run(tf.global_variables_initializer())\n",
    "    n_iterations = np.int(np.floor(n_samples/batch_size))+1\n",
    "    start_time = time.time()\n",
    "    cost_history = np.empty(shape=[1],dtype=float)\n",
    "    print (\"Training.......\")\n",
    "    print (\"------ Elapsed time ------- Epoch ---- Cost \")\n",
    "#     for epoch in np.arange(n_epoches+1):\n",
    "    for itr in np.arange(n_iterations):\n",
    "        start = (itr * batch_size) % (n_samples - batch_size)\n",
    "        batch_x, batch_y = ibm_x_train[start:start+batch_size], ibm_y_train[start:start+batch_size]\n",
    "        feed_dict_train = {X: batch_x, Y: batch_y}\n",
    "        _, c = session.run([optimizer, cost], feed_dict=feed_dict_train)\n",
    "#         if(epoch % 1 == 0):\n",
    "#             print (\"------ {:12.7f} ------- {:5d} ---- {:12.10f} \".format((time.time() - start_time), epoch, c))\n",
    "        cost_history = np.append(cost_history,c)\n",
    "    print (\"---Running time: %s seconds ---\" % (time.time() - start_time))\n",
    "    print ('*'*50)\n",
    "    fig = plt.figure(figsize=(10,5))\n",
    "    plt.plot(cost_history)\n",
    "    plt.axis([0,N_EPOCHS,0,np.max(cost_history)])\n",
    "    plt.show()\n",
    "            "
   ]
  },
  {
   "cell_type": "code",
   "execution_count": 60,
   "metadata": {
    "collapsed": false
   },
   "outputs": [
    {
     "name": "stdout",
     "output_type": "stream",
     "text": [
      "Making prediction.......\n"
     ]
    },
    {
     "data": {
      "image/png": "[encoded data removed]",
      "text/plain": [
       "<matplotlib.figure.Figure at 0x1e157ea6be0>"
      ]
     },
     "metadata": {},
     "output_type": "display_data"
    }
   ],
   "source": [
    "\n",
    "with tf.Session() as session:\n",
    "    session.run(tf.global_variables_initializer())\n",
    "    print (\"Making prediction.......\")\n",
    "    start_time = time.time()\n",
    "    n_samples = ibm_x_test.shape[0]\n",
    "    prediction = np.zeros((n_samples, 1))\n",
    "    n_iterations = np.int(np.floor(n_samples/batch_size))+1\n",
    "    for itr in np.arange(n_iterations):\n",
    "        start = (itr * batch_size) % (n_samples - batch_size)\n",
    "        batch_x, batch_y = ibm_x_test[start:start + batch_size], ibm_y_test[start:start + batch_size]\n",
    "        feed_dict_test = {X: batch_x, Y: batch_y}\n",
    "        prediction[start:start + batch_size] = session.run(pred, feed_dict=feed_dict_test)\n",
    "    fig = plt.figure(figsize=(10,5))\n",
    "    plt.plot(ibm_x['2013-01-01':'2016-12-31'].index, prediction, color='b')\n",
    "    plt.plot(ibm_x['2013-01-01':'2016-12-31'].index, ibm_y_test, color='r')\n",
    "    plt.show()\n"
   ]
  },
  {
   "cell_type": "code",
   "execution_count": 61,
   "metadata": {
    "collapsed": false
   },
   "outputs": [],
   "source": [
    "from sklearn.metrics import mean_squared_error\n",
    "from math import sqrt\n",
    "\n",
    "rms = sqrt(mean_squared_error(prediction, ibm_y_test))"
   ]
  },
  {
   "cell_type": "code",
   "execution_count": 62,
   "metadata": {
    "collapsed": false
   },
   "outputs": [
    {
     "data": {
      "text/plain": [
       "0.6726652739097039"
      ]
     },
     "execution_count": 62,
     "metadata": {},
     "output_type": "execute_result"
    }
   ],
   "source": [
    "rms"
   ]
  },
  {
   "cell_type": "code",
   "execution_count": null,
   "metadata": {
    "collapsed": false
   },
   "outputs": [],
   "source": []
  },
  {
   "cell_type": "code",
   "execution_count": 63,
   "metadata": {
    "collapsed": false
   },
   "outputs": [
    {
     "data": {
      "text/plain": [
       "array([[ 1.18370485],\n",
       "       [ 1.18376625],\n",
       "       [ 1.18400145],\n",
       "       ..., \n",
       "       [ 0.        ],\n",
       "       [ 0.        ],\n",
       "       [ 0.        ]])"
      ]
     },
     "execution_count": 63,
     "metadata": {},
     "output_type": "execute_result"
    }
   ],
   "source": [
    "prediction"
   ]
  },
  {
   "cell_type": "code",
   "execution_count": null,
   "metadata": {
    "collapsed": true
   },
   "outputs": [],
   "source": []
  }
 ],
 "metadata": {
  "kernelspec": {
   "display_name": "Python 3",
   "language": "python",
   "name": "python3"
  },
  "language_info": {
   "codemirror_mode": {
    "name": "ipython",
    "version": 3
   },
   "file_extension": ".py",
   "mimetype": "text/x-python",
   "name": "python",
   "nbconvert_exporter": "python",
   "pygments_lexer": "ipython3",
   "version": "3.5.2"
  }
 },
 "nbformat": 4,
 "nbformat_minor": 2
}
