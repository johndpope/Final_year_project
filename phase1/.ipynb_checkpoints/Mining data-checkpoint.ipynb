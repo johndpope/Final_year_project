{
 "cells": [
  {
   "cell_type": "code",
   "execution_count": 1,
   "metadata": {
    "collapsed": true
   },
   "outputs": [],
   "source": [
    "import os\n",
    "import requests\n",
    "import bs4 as bs\n",
    "import numpy as np\n",
    "import pandas as pd\n",
    "import pickle as pkl\n",
    "import datetime as dt\n",
    "from matplotlib import style\n",
    "import matplotlib.pyplot as plt\n",
    "from collections import Counter\n",
    "import pandas_datareader.data as web\n",
    "from IPython.display import display, Math, Latex"
   ]
  },
  {
   "cell_type": "code",
   "execution_count": 2,
   "metadata": {
    "collapsed": true
   },
   "outputs": [],
   "source": [
    "def get_basic_data(name, ticker):\n",
    "    print(\"Getting basic stock data of {}, ticker {}\".format(name, ticker))\n",
    "    print(\"Mining..............\")\n",
    "    \n",
    "    if not os.path.exists(name):\n",
    "        os.makedirs(name)\n",
    "    \n",
    "    start = dt.datetime(2000, 1, 1)\n",
    "    end = dt.datetime(2016, 12, 31)\n",
    "    \n",
    "    print(\"Acquiring {} data\".format(ticker))\n",
    "    if not os.path.exists(name + '/{}.csv'.format(name)):\n",
    "        try:\n",
    "            df = web.DataReader(ticker, 'yahoo', start, end)\n",
    "            df.to_csv(name + '/{}.csv'.format(name))\n",
    "        except:\n",
    "            df = web.DataReader(ticker, 'google', start, end)\n",
    "            df.to_csv(name + '/{}.csv'.format(name))\n",
    "    else:\n",
    "        print(\"   - Already have {}\".format(name))\n",
    "    print(\"DONE\")\n"
   ]
  },
  {
   "cell_type": "markdown",
   "metadata": {},
   "source": [
    "# 1. Stock features description "
   ]
  },
  {
   "cell_type": "markdown",
   "metadata": {},
   "source": [
    "#### Basics daily information \n",
    "* *Open*: The first trading price when the market open on the day.\n",
    "\n",
    "* *Day High and Low*: This indicates the price range at which the stock has traded at throughout the day. In other words, these are the maximum and the minimum prices that people have paid for the stock.\n",
    "\n",
    "* *Close*: the last trading price when the market closed on the day. This is also the predicted target of this research.\n",
    "\n",
    "* *Volumne*: This figure shows the total number of shared traded for the day.\n",
    "\n",
    "* *Adj Close*: stock's closing price on any given day of trading that has been amended to include any distributions and corporate actions that occurred at any time prior to the next day's open. "
   ]
  },
  {
   "cell_type": "markdown",
   "metadata": {},
   "source": [
    "When a both of stock's price and volume increase, there is an increase in the interest in the stock. The stock price trend goes upward. \n",
    "\n",
    "When the stock's price increases and volume decrease, it shows that investors are indicisive to finalize their buying decision. The reasons is due to the lack of fundamental or psychological factors which can influence the larger market participants. In this situation, the stock price trend will likely to change\n",
    "\n",
    "When the stock price decreases and volume increases, it shows that some force is increase the selling tendency of the stock which is possibly a downtrend.\n",
    "\n",
    "The decrease of stock price and volume indicates that investors are indicisive to finalize their selling decision. \n",
    "\n"
   ]
  },
  {
   "cell_type": "markdown",
   "metadata": {},
   "source": [
    "\n",
    "#### Technical indicator (Not finished)\n",
    "Any class of metrics whose value is derived from generic price activity in a stock or asset. Technical indictors look to predict the future price levels, or simply the general price direction, of a security by looking at past patterns. \n",
    "\n",
    "- Relative Strength index (RSI): is a measure of a stock's overbought and oversold position. \n",
    "- On-Balance Volume (OBV): measures the positive and negative flow of volume in a security, relative to its price over time. It is a simple measure that keeps a cumulative total volume by adding or subtracting each period's volume, depending on the price movement. This measure expands on the basic volume measure by combining volume and price movement. The idea behind this indicator is that volume precedes price movement, so if a security is seeing an increasing OBV, it is a signal that volume is increasing on upward price moves. Decreases mean that the security is seeing increasing volume on down days.\n",
    "- Accumulation/Distribution Line: \n",
    "\n",
    "| Indicators | Name | Description | Formula         \n",
    "| :- |:- | :- | :------------------:\n",
    "|WILLR| Williams%R  | Determines where today's closing price fell within the range on past 10-day's transaction | (highest-closed)/(highest-lowest)*100\n",
    "| ROCR | Rate of Change | Compute rate of change relative to previous trading intervals | (Price(t)/Price(t-n))*100\n",
    "| MOM | Momentum | Mseaures the chang in price | Price(t) - Price(t-n)\n",
    "| RS | Relative Strength Index | Suggests the overbought and oversold market signal | \n",
    "| CCI | Commodity Channel Index | Identifies cyclical turn in stock price | \n",
    "|ADX | Average Directional Index | Discover if trend i developing | \n",
    "| TRIX | Triple Exponential Moving Average | Smooth the insignificant movements | \n",
    "| MACD | Moving average convergence divergence | Use different EMA to signal buy and sell | \n",
    "| OBV | On balance Volume | Relates trading Volume to price change | \n",
    "| TSF | Time series Forcasting | Calculates the linear regression of 20-day price | \n",
    "| ATR | Average True Range | Shows volatility of market | \n",
    "| MFI | Money flow Index | Relates typical price with volume |"
   ]
  },
  {
   "cell_type": "markdown",
   "metadata": {},
   "source": [
    "#### Dow theory\n",
    "\n",
    "1. The markets have three basic movements:\n",
    "    - Primary trend: major market movement, last from many months to many years\n",
    "    - Secondary trend: medium movement, last from ten days to three months\n",
    "    - minor trend: smallest movement, last a few hours to one month\n",
    "2. The market trends have three phases\n",
    "    - Accumulation phase: happens during the beginning of an uptrend or downtrend when investors buy or sell stocks\n",
    "    - Public participation phase:  happens when the stock is driven by some factors. In this phase, more investors participate\n",
    "    - Distribution or panic phase: all of the prices have reached their peak of bottom. In this phase, investors sell in an uptrend and buy in a downtrend. here’s consensus in the market that the stock price is trading above or below its fundamental valuation. \n",
    "    <img src=\"./market_phase.png\">\n",
    "    \n",
    "                three phases of the market trend for Goldman Sachs’\n",
    "                (GS) stock\n",
    "3. Stock prices reflect all news\n",
    "4. Financial market indexes should agree with each other\n",
    "5. Market trends should be confirmed by volume.\n",
    "6. Market trends reverse after giving strong signals"
   ]
  },
  {
   "cell_type": "markdown",
   "metadata": {},
   "source": [
    "#### Elliot Wave Theory\n",
    "\n",
    "The theory proposed that market trends moves in repeated cycles. They cycles are classifided based on how long they last. \n",
    "\n",
    "The cycles include:\n",
    "- Grand Super cycle – This is the longest wave. It takes place over many centuries.\n",
    "- Super cycle – This wave lasts for many decades. It lasts ~40–70 years.\n",
    "- Cycle – This wave lasts from one to several years.\n",
    "- Primary – This wave last for a few months to a couple of years.\n",
    "- Intermediate – This wave lasts for a few weeks to a few months.\n",
    "- Minor – This wave lasts for a few weeks.\n",
    "- Minute – This wave lasts for a few days.\n",
    "- Minuette – This wave lasts for a few hours.\n",
    "- Subminuette – This wave lasts for a few minutes.\n",
    "\n",
    "A cycle has two phases:\n",
    "- Impulsive phase\n",
    "- Corrective phase\n",
    "<img src=\"./elliot.png\">\n",
    "The above chart shows two phases of the Elliott Wave for Home Depot’s (HD) stock.\n",
    "\n",
    "The impulsive wave is shown in the above chart. It consists of five waves. It forms higher highs in the uptrend and lower highs in downtrend.\n",
    "The corrective wave is shown in the above chart. It consists of three waves. It forms lower highs in an uptrend and higher highs in a downtrend."
   ]
  },
  {
   "cell_type": "markdown",
   "metadata": {},
   "source": [
    "# 1. Data collection and understanding"
   ]
  },
  {
   "cell_type": "markdown",
   "metadata": {},
   "source": [
    "## 1.1 Amazon "
   ]
  },
  {
   "cell_type": "code",
   "execution_count": 3,
   "metadata": {
    "collapsed": false
   },
   "outputs": [
    {
     "name": "stdout",
     "output_type": "stream",
     "text": [
      "Getting basic stock data of amazon, ticker AMZN\n",
      "Mining..............\n",
      "Acquiring AMZN data\n",
      "DONE\n"
     ]
    }
   ],
   "source": [
    "get_basic_data(\"amazon\", 'AMZN')"
   ]
  },
  {
   "cell_type": "markdown",
   "metadata": {},
   "source": [
    "# 1.2 Woolworth limited"
   ]
  },
  {
   "cell_type": "code",
   "execution_count": 4,
   "metadata": {
    "collapsed": false
   },
   "outputs": [
    {
     "name": "stdout",
     "output_type": "stream",
     "text": [
      "Getting basic stock data of woolie, ticker wow.ax\n",
      "Mining..............\n",
      "Acquiring wow.ax data\n",
      "DONE\n"
     ]
    }
   ],
   "source": [
    "get_basic_data(\"woolie\", \"wow.ax\")"
   ]
  },
  {
   "cell_type": "markdown",
   "metadata": {},
   "source": [
    "# 1.3 Myer Limited"
   ]
  },
  {
   "cell_type": "code",
   "execution_count": 5,
   "metadata": {
    "collapsed": false
   },
   "outputs": [
    {
     "name": "stdout",
     "output_type": "stream",
     "text": [
      "Getting basic stock data of myer, ticker myr.ax\n",
      "Mining..............\n",
      "Acquiring myr.ax data\n",
      "DONE\n"
     ]
    }
   ],
   "source": [
    "get_basic_data('myer', \"myr.ax\")"
   ]
  },
  {
   "cell_type": "code",
   "execution_count": null,
   "metadata": {
    "collapsed": true
   },
   "outputs": [],
   "source": []
  }
 ],
 "metadata": {
  "kernelspec": {
   "display_name": "Python 3",
   "language": "python",
   "name": "python3"
  },
  "language_info": {
   "codemirror_mode": {
    "name": "ipython",
    "version": 3
   },
   "file_extension": ".py",
   "mimetype": "text/x-python",
   "name": "python",
   "nbconvert_exporter": "python",
   "pygments_lexer": "ipython3",
   "version": "3.6.0"
  }
 },
 "nbformat": 4,
 "nbformat_minor": 2
}
